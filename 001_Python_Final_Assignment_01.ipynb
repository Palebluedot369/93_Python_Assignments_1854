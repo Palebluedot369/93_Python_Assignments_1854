{
 "cells": [
  {
   "cell_type": "markdown",
   "metadata": {},
   "source": [
    "    JLUFE                                                     Spring 2021 (Feb-July) \n",
    "\n",
    "                             Final Assignment Report        \n",
    "                                 \n",
    "                          \n",
    "                     JILIN UNIVERSITY OF FINANCE AND ECONOMICS  \n",
    "\n",
    "      Department of College of Managment Science and Information Engineering\n",
    "           \n",
    "                    BSc in Information Management and Information System\n",
    "                                  \n",
    "                                     (2021)\n",
    "                                          \n",
    "                              \n",
    "                                   \n",
    "                            Final Assignment: Part 01\n",
    "                                          \n",
    "                                   6/07/2021\n",
    "                                      \n",
    "                               MODULE: Data Mining \n",
    "                               \n",
    "                  Submitted by: Pond(章志超) 0314021805411 (1854)\n",
    "                                 QQ: 1145868752"
   ]
  },
  {
   "cell_type": "markdown",
   "metadata": {},
   "source": [
    "# RULES:\n",
    "\n",
    "1. I have added tips and required learning resources for each question, which helps you to solve the exercise. \n",
    "\n",
    "2. Finish the assignment on your **OWN** (**Any student find copying/sharing from classmates or internet will get '0' points!!!**)\n",
    "\n",
    "3. Once you finish the Assignment **[convert your .ipynb file into PDF](https://github.com/milaan9/91_Python_Tips/blob/main/000_Convert_Jupyter_Notebook_to_PDF.ipynb)** (both .pynb and .pdf file will be required!)\n",
    "\n",
    "4. Create **.zip** file and include your two files:\n",
    "    1. Your Jupyter Notebook file (**001_Python_Assignment_01.ipynb**)\n",
    "    2. Your PDF converted file of 001_Python_Assignment_01.ipynb (**001_Python_Assignment_01.pdf**)\n",
    "    \n",
    "5. Name your .zip file as your student number and name.\n",
    "   example: **0318021907632 Milan(米兰).zip**"
   ]
  },
  {
   "cell_type": "markdown",
   "metadata": {},
   "source": [
    "# Python Assignment 01"
   ]
  },
  {
   "cell_type": "markdown",
   "metadata": {},
   "source": [
    "### Question 1: \n",
    "\n",
    "Write a python program that generates a list containing only common elements between the two lists (without duplicates). Make sure your program works on two lists of different sizes.\n",
    "\n",
    "Expected Output:\n",
    "```\n",
    "List 1: [0, 2, 4, 6, 12, 13, 14, 18, 20, 24, 25, 26, 27]\n",
    "List 2: [0, 4, 7, 9, 10, 11, 13, 14, 17, 18, 20, 33, 39]\n",
    "List of common elements are:  [0, 4, 13, 14, 18, 20]\n",
    "```\n",
    "\n",
    "For extra points:\n",
    "1. Generate the two list randomly to test this\n",
    "2. Generate each list in one line of Python."
   ]
  },
  {
   "cell_type": "code",
   "execution_count": 6,
   "metadata": {
    "collapsed": false
   },
   "outputs": [
    {
     "name": "stdout",
     "output_type": "stream",
     "text": [
      "[15, 7, 1, 5, 14, 1, 7, 11, 10, 10]\n",
      "[9, 18, 7, 7, 10, 15, 11, 19, 10, 6, 19, 14, 1, 5, 7]\n",
      "{1, 5, 7, 10, 11, 14, 15}\n"
     ]
    }
   ],
   "source": [
    "# Solution 1: \n",
    "import random\n",
    "\n",
    "a = [random.randint(1,20) for i in range(10)]\n",
    "print(a)\n",
    "b = [random.randint(1,20) for i in range(15)]\n",
    "print(b)\n",
    "print(set(a) & set(b))#取交集"
   ]
  },
  {
   "cell_type": "markdown",
   "metadata": {},
   "source": [
    "### Question 2: \n",
    "\n",
    "Write a python program to find the gravitational force acting between two objects.\n",
    "\n",
    "\\begin{equation*}\n",
    "F=G\\frac{{m_1}{m_2}}{{r^2}}\n",
    "\\end{equation*}\n",
    "\n",
    "Expected Output:\n",
    "```\n",
    "Enter the first mass (m1): 5000000\n",
    "Enter the second mass (m2): 900000\n",
    "Enter the distance between the centres of the masses (N): 30\n",
    "Hence, the Gravitational Force is:  0.33 N\n",
    "```"
   ]
  },
  {
   "cell_type": "code",
   "execution_count": 7,
   "metadata": {
    "collapsed": false
   },
   "outputs": [
    {
     "name": "stdout",
     "output_type": "stream",
     "text": [
      "Please enter your first mass:\n",
      "5000000\n",
      "Please enter your second mass:\n",
      "900000\n",
      "Please enter the distance between the centres of the masses\n",
      "30\n",
      "the Gravitational Force is:0.33370400000000006\n"
     ]
    }
   ],
   "source": [
    "# Solution 2: \n",
    "import math\n",
    "from scipy.constants import G\n",
    "\n",
    "print(\"Please enter your first mass:\")\n",
    "m1 = float(input())\n",
    "print(\"Please enter your second mass:\")\n",
    "m2 = float(input())\n",
    "print(\"Please enter the distance between the centres of the masses\")\n",
    "r = float(input())\n",
    "F = G * m1 * m2 / (r * r)\n",
    "print(\"the Gravitational Force is:\" + str(F))#数据类型之间不匹配，需进行转换"
   ]
  },
  {
   "cell_type": "markdown",
   "metadata": {},
   "source": [
    "### Question 3: \n",
    "\n",
    "Write a python program that generates a new list that contains only even elements from the randomly generated list.\n",
    "\n",
    "Expected Output:\n",
    "```\n",
    "Randomly generated list: [64, 63, 90, 13, 38, 27, 19, 51, 97, 32, 18, 75]\n",
    "List of even elements: [64, 90, 38, 32, 18]\n",
    "```"
   ]
  },
  {
   "cell_type": "code",
   "execution_count": 8,
   "metadata": {
    "collapsed": false
   },
   "outputs": [
    {
     "name": "stdout",
     "output_type": "stream",
     "text": [
      "[48, 199, 177, 70, 57, 175, 24, 195, 110, 68, 166, 39, 98, 154, 184, 163, 104, 33, 11, 152]\n",
      "List of even number:  [48, 70, 24, 110, 68, 166, 98, 154, 184, 104, 152]\n",
      "List of odd number:  [199, 177, 57, 175, 195, 39, 163, 33, 11]\n"
     ]
    }
   ],
   "source": [
    "# Solution 3: \n",
    "import random\n",
    "\n",
    "A = random.sample(range(1,200),20)\n",
    "print(A)\n",
    "\n",
    "B = []\n",
    "C = []\n",
    "\n",
    "for i in A:\n",
    "    if i % 2 == 0:\n",
    "        B.append(i)\n",
    "    else:\n",
    "        C.append(i)\n",
    "print('List of even number: ',B)\n",
    "print('List of odd number: ',C)#奇偶都可以取出来"
   ]
  },
  {
   "cell_type": "markdown",
   "metadata": {},
   "source": [
    "### Question 4: \n",
    "\n",
    "Write a python program to check if a substring is present in a given string.\n",
    "\n",
    "Expected Output:\n",
    "```\n",
    "Enter string:Hello world\n",
    "Enter word:world\n",
    "Substring in string!\n",
    "```"
   ]
  },
  {
   "cell_type": "code",
   "execution_count": 9,
   "metadata": {
    "collapsed": false
   },
   "outputs": [
    {
     "name": "stdout",
     "output_type": "stream",
     "text": [
      "Please enter your first string:\n",
      "hello word\n",
      "Please enter your substring:\n",
      "word\n",
      "True\n"
     ]
    }
   ],
   "source": [
    "# Solution 4: \n",
    "print(\"Please enter your first string:\")\n",
    "a = input()\n",
    "print(\"Please enter your substring:\")\n",
    "b = input()\n",
    "print(b in a)"
   ]
  },
  {
   "cell_type": "markdown",
   "metadata": {},
   "source": [
    "### Question 5: \n",
    "\n",
    "Write a python program that asks the user last 2 digit of (your) student number and generates Fibonacci series.\n",
    "\n",
    "Expected Output:\n",
    "```\n",
    "How many numbers that generates?: 12\n",
    "Fibonacci series:\n",
    " [1, 1, 2, 3, 5, 8, 13, 21, 34, 55, 89, 144]\n",
    "```"
   ]
  },
  {
   "cell_type": "code",
   "execution_count": 10,
   "metadata": {
    "collapsed": false
   },
   "outputs": [
    {
     "name": "stdout",
     "output_type": "stream",
     "text": [
      "Please enter your generates:\n",
      "11\n",
      "1 1 2 3 5 8 13 21 34 55 89 "
     ]
    }
   ],
   "source": [
    "# Solution 5: \n",
    "print(\"Please enter your generates:\")\n",
    "n = int(input())\n",
    "\n",
    "list=[]\n",
    "for m in range(0,n):\n",
    "    if m == 0 or m == 1:\n",
    "        list.append(1)\n",
    "    else:\n",
    "        list.append(list[m - 1]+list[m - 2])\n",
    "for i in range(len(list)):\n",
    "    print(list[i],end=' ')#输出一串扔list里"
   ]
  },
  {
   "cell_type": "markdown",
   "metadata": {},
   "source": [
    "### Question 6: \n",
    "\n",
    "Write a python program using function that generates a new list that contains all the elements of the first list and removing all the duplicates.\n",
    "\n",
    "Expected Output:\n",
    "```\n",
    "List:  [1, 2, 3, 4, 3, 2, 1]\n",
    "Result List using loop:  [1, 2, 3, 4]\n",
    "Result List using sets:  [1, 2, 3, 4]\n",
    "```\n",
    "\n",
    "For extra points:\n",
    "1. Generate the result using two different functions using:\n",
    "    - one using a loop and constructing a list\n",
    "    - sets"
   ]
  },
  {
   "cell_type": "code",
   "execution_count": 11,
   "metadata": {
    "collapsed": false
   },
   "outputs": [
    {
     "name": "stdout",
     "output_type": "stream",
     "text": [
      "[1, 2, 3, 4, 3, 2, 1]\n",
      "[1, 2, 3, 4]\n",
      "{1, 2, 3, 4}\n"
     ]
    }
   ],
   "source": [
    "# Solution 6: \n",
    "import random\n",
    "\n",
    "A = [1,2,3,4,3,2,1]\n",
    "print(A)\n",
    "B = []\n",
    "for i in A:\n",
    "    if not i in B:\n",
    "        B.append(i)\n",
    "print(B)#循环\n",
    "\n",
    "print(set(A))#集合\n"
   ]
  },
  {
   "cell_type": "markdown",
   "metadata": {},
   "source": [
    "### Question 7: \n",
    "\n",
    "Write a python program using functions that asks the user for a string containing multiple words and print back to the user the same string, except with the words in reverse order.\n",
    "\n",
    "Expected Output:\n",
    "```\n",
    "Please enter a sentence: My name is Milaan\n",
    "The reverse sentence is: Milaan is name My\n",
    "```"
   ]
  },
  {
   "cell_type": "code",
   "execution_count": 13,
   "metadata": {
    "collapsed": false
   },
   "outputs": [
    {
     "name": "stdout",
     "output_type": "stream",
     "text": [
      "['ZZC', 'is', 'name', 'My']\n",
      "ZZC is name My \n"
     ]
    }
   ],
   "source": [
    "# Solution 7: \n",
    "import re\n",
    "\n",
    "n = 'My name is ZZC'\n",
    "a = n.split()\n",
    "a.reverse()\n",
    "print(a)\n",
    "list_add = []\n",
    "for i in a:\n",
    "    m = re.match('(\\w+)(\\W)' , i)#不进行非单词匹配会报错，no such group\n",
    "    n = re.match('\\w+' , i)\n",
    "    if m :\n",
    "        m1 = m.group(1)\n",
    "        m2 = m.group(2)\n",
    "        list_add.append(m2)\n",
    "        list_add.append(m1)\n",
    "    else:\n",
    "        list_add.append(n.group())\n",
    "newstr = ''\n",
    "for j in list_add:\n",
    "    newstr = newstr + j  +' '\n",
    "print(newstr)\n"
   ]
  },
  {
   "cell_type": "markdown",
   "metadata": {},
   "source": [
    "### Question 8: \n",
    "\n",
    "Write a python program using function that encrypts a given input with these steps:\n",
    "\n",
    "Input: \"apple\"\n",
    "\n",
    "* Step 1: Reverse the input: \"elppa\"\n",
    "* Step 2: Replace all vowels using the following chart:\n",
    "\n",
    "```python\n",
    "a => 0\n",
    "e => 1\n",
    "i => 2\n",
    "o => 2\n",
    "u => 3\n",
    "# 1lpp0\n",
    "```\n",
    "\n",
    "* Step 3: Add \"aca\" to the end of the word: \"1lpp0aca\"\n",
    "\n",
    "Expected Output:\n",
    "```\n",
    "Word:  apple\n",
    "Encrypted word: 1lpp0aca\n",
    "```\n",
    "\n",
    "More Examples:\n",
    "```\n",
    "encrypt(\"banana\") ➞ \"0n0n0baca\"\n",
    "encrypt(\"karaca\") ➞ \"0c0r0kaca\"\n",
    "encrypt(\"burak\") ➞ \"k0r3baca\"\n",
    "encrypt(\"alpaca\") ➞ \"0c0pl0aca\"\n",
    "```"
   ]
  },
  {
   "cell_type": "code",
   "execution_count": 3,
   "metadata": {
    "collapsed": false
   },
   "outputs": [
    {
     "name": "stdout",
     "output_type": "stream",
     "text": [
      "Please enter your word:\n",
      "apple\n",
      "1lpp0aca\n"
     ]
    }
   ],
   "source": [
    "# Solution 8: \n",
    "print(\"Please enter your word:\")\n",
    "A = input()\n",
    "\n",
    "A1 = A[::-1]\n",
    "\n",
    "A2 = \"\"#替换过程中原字符串A1不变，需新定义一个字符串存储\n",
    "for i in A1:\n",
    "    if (i == \"a\"):\n",
    "        A2 += \"0\"\n",
    "    elif (i == \"e\"):\n",
    "        A2 +=  \"1\"\n",
    "    elif (i == \"i\"):\n",
    "        A2 +=  \"2\"\n",
    "    elif (i == \"o\"):\n",
    "        A2 +=  \"2\"\n",
    "    elif (i == \"u\"):\n",
    "        A2 +=  \"4\"\n",
    "    else:\n",
    "        A2 += i\n",
    "\n",
    "A2 += \"aca\"\n",
    "\n",
    "print(A2)\n"
   ]
  },
  {
   "cell_type": "markdown",
   "metadata": {},
   "source": [
    "### Question 9: \n",
    "\n",
    "Write a python program using function that takes a number num and returns its length.\n",
    "\n",
    "Expected Output:\n",
    "```\n",
    "Enter number: 963969\n",
    "Total digits in given number:  6\n",
    "```"
   ]
  },
  {
   "cell_type": "code",
   "execution_count": 14,
   "metadata": {
    "collapsed": false
   },
   "outputs": [
    {
     "name": "stdout",
     "output_type": "stream",
     "text": [
      "Please enter a string:\n",
      "hello word\n",
      "The string length is : 10\n"
     ]
    }
   ],
   "source": [
    "# Solution 9: \n",
    "print(\"Please enter a string:\")\n",
    "a = input()\n",
    "print(\"The string length is :\",len(a))\n"
   ]
  },
  {
   "cell_type": "markdown",
   "metadata": {},
   "source": [
    "### Question 10: \n",
    "\n",
    "Write a python program using function that takes a string and returns the number (count) of vowels contained within it.\n",
    "\n",
    "Expected Output:\n",
    "```\n",
    "Enter string: Celebration\n",
    "Total vowels in the string: 5\n",
    "Identified vowels are:  ['e', 'e', 'a', 'i', 'o']\n",
    "```\n",
    "\n",
    "More examples:\n",
    "```\n",
    "count_vowels(\"Palm\") ➞ 1\n",
    "count_vowels(\"Prediction\") ➞ 4\n",
    "```"
   ]
  },
  {
   "cell_type": "code",
   "execution_count": 15,
   "metadata": {
    "collapsed": false
   },
   "outputs": [
    {
     "name": "stdout",
     "output_type": "stream",
     "text": [
      "a is: 4\n",
      "e is: 4\n",
      "i is: 6\n",
      "o is: 2\n",
      "u is: 3\n"
     ]
    }
   ],
   "source": [
    "# Solution 10: \n",
    "A = \"The universe is big.It's vast and complicated and ridiculous.\"\n",
    "print(\"a is:\",A.count(\"a\"))\n",
    "print(\"e is:\",A.count(\"e\"))\n",
    "print(\"i is:\",A.count(\"i\"))\n",
    "print(\"o is:\",A.count(\"o\"))\n",
    "print(\"u is:\",A.count(\"u\"))"
   ]
  },
  {
   "cell_type": "markdown",
   "metadata": {},
   "source": [
    "### Question 11:\n",
    "\n",
    "Write a python program to draw pattern as below:\n",
    "\n",
    "Expected Output:\n",
    "```\n",
    "--- --- --- \n",
    "|   |   |   |\n",
    " --- --- --- \n",
    "|   |   |   |\n",
    " --- --- --- \n",
    "|   |   |   |\n",
    " --- --- --- \n",
    "```\n",
    "\n",
    "For extra point:\n",
    "1. Generate solution by asking the user what size game board they want to draw, and draw it for them to the screen using Python’s print statement.\n",
    "\n",
    "Expected Output:\n",
    "```\n",
    "Enter the size of board you want to draw: 4\n",
    " --- --- --- ---\n",
    "|   |   |   |   |   \n",
    " --- --- --- ---\n",
    "|   |   |   |   |   \n",
    " --- --- --- ---\n",
    "|   |   |   |   |   \n",
    " --- --- --- ---\n",
    "|   |   |   |   |   \n",
    " --- --- --- ---\n",
    "```"
   ]
  },
  {
   "cell_type": "code",
   "execution_count": 1,
   "metadata": {
    "collapsed": false
   },
   "outputs": [
    {
     "name": "stdout",
     "output_type": "stream",
     "text": [
      "请输入您想要的大小：4\n",
      " -  -  -  - \n",
      "|  |  |  |  |  \n",
      " -  -  -  - \n",
      "|  |  |  |  |  \n",
      " -  -  -  - \n",
      "|  |  |  |  |  \n",
      " -  -  -  - \n",
      "|  |  |  |  |  \n",
      " -  -  -  - \n"
     ]
    }
   ],
   "source": [
    "# Solution 11: \n",
    "n = int(input(\"请输入您想要的大小：\"))\n",
    "for i in range(2 * n + 1):\n",
    "    if i % 2 == 0:\n",
    "        print(\" - \" * n)\n",
    "    else:\n",
    "        print(\"|  \" * (n + 1))"
   ]
  },
  {
   "cell_type": "markdown",
   "metadata": {},
   "source": [
    "### Question 12: \n",
    "\n",
    "Write a python program to ask user for a string and then perform following operations:\n",
    "1. Calculate the num of digits \n",
    "2. Calculate the num of letters \n",
    "3. Calculate the num of vowels\n",
    "4. Calculate the num of lowercase characters\n",
    "5. replace ' ' with '_' in the string\n",
    "6. Print and Store the ouput to 'output.txt' file.\n",
    "\n",
    "Expected Output:\n",
    "```\n",
    "Enter string: Hello World 123\n",
    "Output printed in'output.txt'\n",
    "```\n",
    "\n",
    "Expected Output in output.txt:\n",
    "```\n",
    "The entered string is: Hello World 123\n",
    "The number of digits is: 3\n",
    "The number of characters is: 15\n",
    "The number of vowels is: 3\n",
    "The number of lowercase characters is: 8\n",
    "The modified string is: Hello_World_123\n",
    "```"
   ]
  },
  {
   "cell_type": "code",
   "execution_count": 2,
   "metadata": {
    "collapsed": false
   },
   "outputs": [
    {
     "name": "stdout",
     "output_type": "stream",
     "text": [
      "Please enter your words:\n",
      "Hello World 123\n",
      "The number of digits is: 3\n",
      "The number of characters is: 15\n",
      "The number of vowels is 3\n",
      "The number of lowercase characters is 8\n"
     ]
    },
    {
     "data": {
      "text/plain": [
       "'Hello_World_123'"
      ]
     },
     "execution_count": 2,
     "metadata": {},
     "output_type": "execute_result"
    }
   ],
   "source": [
    "# Solution 12: \n",
    "print(\"Please enter your words:\")\n",
    "n = input()\n",
    "snum = wnum = xwnum = ywnum = 0\n",
    "other = none = 0\n",
    "wnum = len(n)\n",
    "for i in n:\n",
    "    if 57 >= ord(i) >= 48:\n",
    "        snum += 1\n",
    "    elif 122 >= ord(i) >= 97:\n",
    "        xwnum += 1\n",
    "    else:\n",
    "       other += 1\n",
    "for i in n:\n",
    "    if i == 'a':\n",
    "        ywnum += 1\n",
    "    elif i == 'e':\n",
    "        ywnum += 1\n",
    "    elif i == 'i':\n",
    "        ywnum += 1\n",
    "    elif i == 'o':\n",
    "        ywnum += 1\n",
    "    elif i == 'u':\n",
    "        ywnum += 1\n",
    "    else:\n",
    "        none += 0\n",
    "print(\"The number of digits is:\",snum)\n",
    "print(\"The number of characters is:\",wnum)\n",
    "print(\"The number of vowels is\",ywnum)\n",
    "print(\"The number of lowercase characters is\",xwnum)\n",
    "\n",
    "n1 = n.replace(\" \",\"_\")\n",
    "n1"
   ]
  },
  {
   "cell_type": "markdown",
   "metadata": {},
   "source": [
    "### Question 13: \n",
    "\n",
    "Write a python program using function that takes as input three variables from user, and returns the largest of the three. Do this without using the Python **`max()`** function!\n",
    "\n",
    "Expected Output:\n",
    "```\n",
    "Please enter three integers separated by comma: 12, 66, 31\n",
    "The maximum value is: 66 \n",
    "```"
   ]
  },
  {
   "cell_type": "code",
   "execution_count": 4,
   "metadata": {
    "collapsed": false
   },
   "outputs": [
    {
     "name": "stdout",
     "output_type": "stream",
     "text": [
      "Please enter your numbers:\n",
      "21,8,98\n",
      "98\n"
     ]
    }
   ],
   "source": [
    "# Solution 13: \n",
    "print(\"Please enter your numbers:\")\n",
    "a,b,c = map(int,input().split(\",\"))\n",
    "\n",
    "max = a\n",
    "if max > b:\n",
    "    max = max\n",
    "else:\n",
    "    max = b\n",
    "\n",
    "if max > c:\n",
    "    max = max\n",
    "else:\n",
    "    max = c\n",
    "print(max)"
   ]
  },
  {
   "cell_type": "markdown",
   "metadata": {},
   "source": [
    "### Question 14: \n",
    "\n",
    "Write a python program where user, will have a number in head between 0 and 100. The program will guess a number, and you, the user, will say whether it is too \"high\", too \"low\", or your number. Also, in the end program should print out how many guesses it took to get your number.\n",
    "\n",
    "Expected Output:\n",
    "```\n",
    "Guess a number between 0 and 100 and tell whether high or low when prompted!\n",
    "My guess is 50. Is that high, low or same? low\n",
    "My guess is 75. Is that high, low or same? low\n",
    "My guess is 88. Is that high, low or same? low\n",
    "My guess is 94. Is that high, low or same? low\n",
    "My guess is 97. Is that high, low or same? low\n",
    "My guess is 99. Is that high, low or same? same\n",
    "Congrats to me! I guessed it in 6 tries.\n",
    "```"
   ]
  },
  {
   "cell_type": "code",
   "execution_count": 5,
   "metadata": {
    "collapsed": false
   },
   "outputs": [
    {
     "name": "stdout",
     "output_type": "stream",
     "text": [
      "My gess is 50  Is that high, low or same?\n",
      "low\n",
      "My gess is 75  Is that high, low or same?\n",
      "high\n",
      "My gess is 62  Is that high, low or same?\n",
      "low\n",
      "My gess is 68  Is that high, low or same?\n",
      "low\n",
      "My gess is 71  Is that high, low or same?\n",
      "same\n",
      "Congrats to me! I guessed it in 5 tries.\n"
     ]
    }
   ],
   "source": [
    "# Solution 14: \n",
    "count = 0\n",
    "min = 0\n",
    "max = 100\n",
    "pd = ' '\n",
    "while pd != 'same':\n",
    "    guess = (min + max) / 2\n",
    "    print(\"My gess is %d \" %guess ,\"Is that high, low or same?\")\n",
    "    pd = input()\n",
    "    if(pd == 'high'):\n",
    "        max = guess\n",
    "    else:\n",
    "        min = guess\n",
    "    if(pd == 'low'):\n",
    "        min = guess\n",
    "    else:\n",
    "        max = guess\n",
    "    count += 1\n",
    "print(\"Congrats to me! I guessed it in %d tries.\" %count)"
   ]
  },
  {
   "cell_type": "markdown",
   "metadata": {},
   "source": [
    "### Question 15: \n",
    "\n",
    "Write a python program using function that takes an list(ordered) of numbers (from smallest to largest) and another number. The function decides whether or not the given number is inside the list and returns (then prints) an appropriate boolean.\n",
    "\n",
    ">Hint: Use binary search.\n",
    "\n",
    "Expected Output:\n",
    "```\n",
    "List:  [2, 4, 6, 8, 10]\n",
    "Find  '5': False\n",
    "Find '10': True\n",
    "Find '-1': False\n",
    "Find  '2': True\n",
    "```\n",
    "\n",
    "For extra point:\n",
    "1. Generate list randomly and select he number randomly to be search from the list."
   ]
  },
  {
   "cell_type": "code",
   "execution_count": 1,
   "metadata": {
    "collapsed": false
   },
   "outputs": [
    {
     "name": "stdout",
     "output_type": "stream",
     "text": [
      "[17, 5, 1, 1, 13, 6, 16, 10, 15, 1]\n",
      "[17, 5, 1, 13, 6, 16, 10, 15]\n",
      "[1, 5, 6, 10, 13, 15, 16, 17]\n",
      "Please enter the number you want find:\n",
      "10\n",
      "一共查找了1次,此数字在列表中的下标为:3\n"
     ]
    }
   ],
   "source": [
    "# Solution 15: \n",
    "import numpy as np\n",
    "import random\n",
    "\n",
    "a = [random.randint(1,20) for i in range(10)]\n",
    "print(a)\n",
    "b = []\n",
    "for i in a:\n",
    "    if i not in b:\n",
    "        b.append(i)\n",
    "print(b)\n",
    "b.sort()\n",
    "print(b)\n",
    "\n",
    "print(\"Please enter the number you want find:\")\n",
    "n = int(input())\n",
    "\n",
    "low = 0\n",
    "high = len(b) - 1\n",
    "index = 1\n",
    "\n",
    "while low <= high:\n",
    "    mid = (low + high) // 2\n",
    "    if n == b[mid]:\n",
    "        print(\"一共查找了%d次,此数字在列表中的下标为:%d\" %(index, mid))\n",
    "        break\n",
    "    elif n < b[mid]:\n",
    "        low = mid + 1\n",
    "    else:\n",
    "        high = mid - 1\n",
    "    index += 1\n",
    "    print(\"一共找了%d次,找不到这样的值!\" % index)"
   ]
  },
  {
   "cell_type": "markdown",
   "metadata": {},
   "source": [
    "### Question 16: \n",
    "\n",
    "Write a python program to generate password. Be creative with how you generate passwords - strong passwords have a mix of lowercase letters, uppercase letters, numbers, and symbols. The passwords should be random, generating a new password every time the user asks for a new password. Include your code in a main method.\n",
    "\n",
    "Expected Output:\n",
    "```\n",
    "Please choose strong or weak:\n",
    "strong\n",
    "password: 6|Av.0T^9\n",
    "do you want a new password? y/n\n",
    "n\n",
    "```\n",
    "\n",
    "For extra points:\n",
    "1. Ask the user if they want password to be strong(9 characters) or weak(6 characters)?"
   ]
  },
  {
   "cell_type": "code",
   "execution_count": 2,
   "metadata": {
    "collapsed": false
   },
   "outputs": [
    {
     "name": "stdout",
     "output_type": "stream",
     "text": [
      "Please choose strong or weak?\n",
      "strong\n",
      "vQ0`S)]q\n",
      "None\n",
      "Do you want a new password? y/n\n",
      "y\n",
      "z,Y5qZ$V\n",
      "None\n",
      "Do you want a new password? y/n\n",
      "n\n"
     ]
    }
   ],
   "source": [
    "# Solution 16: \n",
    "import random\n",
    "import re\n",
    "import string\n",
    "\n",
    "def getkey():\n",
    "    if c1 == 'strong':\n",
    "        a = string.ascii_letters + string.digits + string.punctuation\n",
    "        pw = random.sample(a,8)\n",
    "        pws = ''.join(pw)\n",
    "        print(pws)\n",
    "    else:\n",
    "        a = string.ascii_letters + string.digits + string.punctuation\n",
    "        pw = random.sample(a,6)\n",
    "        pws = ''.join(pw)\n",
    "        print(pws)\n",
    "\n",
    "print(\"Please choose strong or weak?\")\n",
    "\n",
    "c1 = input()\n",
    "print(getkey())\n",
    "\n",
    "print(\"Do you want a new password? y/n\")\n",
    "c2 = input()\n",
    "while c2 == 'y':\n",
    "    print(getkey())\n",
    "    print(\"Do you want a new password? y/n\")\n",
    "    c2 = input()#不知道再次生成密码的None为什么会出现？？？"
   ]
  },
  {
   "cell_type": "markdown",
   "metadata": {},
   "source": [
    "### Question 17: \n",
    "\n",
    "Write a python program using function that picks a random word from a list of words from the **[dictionary](https://github.com/milaan9/92_Python_Assignments/blob/main/sowpods.txt)**. Each line in the file contains a single word.\n",
    "\n",
    ">Hint: use the Python random library for picking a random word.\n",
    "\n",
    "Expected Output:\n",
    "```\n",
    "Random word: POTENTIATING\n",
    "```"
   ]
  },
  {
   "cell_type": "code",
   "execution_count": 3,
   "metadata": {
    "collapsed": false
   },
   "outputs": [
    {
     "name": "stdout",
     "output_type": "stream",
     "text": [
      "753\n",
      "ABSTENTIONIST\n",
      "\n"
     ]
    }
   ],
   "source": [
    "# Solution 17: \n",
    "import random\n",
    "import linecache\n",
    "\n",
    "a = random.randrange(1,1000)\n",
    "print(a)\n",
    "theline = linecache.getline(r'sowpods.txt', a)\n",
    "print(theline)"
   ]
  },
  {
   "cell_type": "markdown",
   "metadata": {},
   "source": [
    "### Question 18: \n",
    "\n",
    "Write a python program where a text(.txt) file is given **[nameslist.txt](https://github.com/milaan9/92_Python_Assignments/blob/main/nameslist.txt)** that contains list of a bunch of names, count how many of each name there are in the file, and print out the results to the screen. \n",
    "\n",
    "Expected Output:\n",
    "```\n",
    "{'Darth': 31, 'Luke': 15, 'Leia': 54}\n",
    "```\n",
    "\n",
    "For extra point:\n",
    "1. Instead of using the **[nameslist.txt](https://github.com/milaan9/92_Python_Assignments/blob/main/nameslist.txt)** file from above (or instead of, if you want the challenge), take this **[SUN_Database.txt](https://github.com/milaan9/92_Python_Assignments/blob/main/SUN_Database.txt)** file, and count how many of each “category” of each image there are. This text file is actually a list of files corresponding to the SUN database scene recognition database, and lists the file directory hierarchy for the images. Once you take a look at the first line or two of the file, it will be clear which part represents the scene category.\n",
    "\n",
    "Expected Output:\n",
    "```\n",
    "abbey: 50\n",
    "airplane_cabin: 50\n",
    "airport_terminal: 50\n",
    "alley: 50\n",
    "amphitheater: 50\n",
    "...\n",
    "...\n",
    "...\n",
    "wrestling_ring: 50\n",
    "yard: 50\n",
    "youth_hostel: 50\n",
    "```"
   ]
  },
  {
   "cell_type": "code",
   "execution_count": 4,
   "metadata": {
    "collapsed": false
   },
   "outputs": [
    {
     "name": "stdout",
     "output_type": "stream",
     "text": [
      "['Darth\\n', 'Luke\\n', 'Darth\\n', 'Leia\\n', 'Darth\\n', 'Leia\\n', 'Leia\\n', 'Luke\\n', 'Darth\\n', 'Leia\\n', 'Darth\\n', 'Darth\\n', 'Leia\\n', 'Leia\\n', 'Darth\\n', 'Leia\\n', 'Darth\\n', 'Leia\\n', 'Luke\\n', 'Darth\\n', 'Leia\\n', 'Leia\\n', 'Darth\\n', 'Leia\\n', 'Darth\\n', 'Darth\\n', 'Leia\\n', 'Leia\\n', 'Luke\\n', 'Luke\\n', 'Leia\\n', 'Darth\\n', 'Darth\\n', 'Luke\\n', 'Leia\\n', 'Darth\\n', 'Darth\\n', 'Leia\\n', 'Leia\\n', 'Leia\\n', 'Leia\\n', 'Leia\\n', 'Luke\\n', 'Darth\\n', 'Luke\\n', 'Leia\\n', 'Leia\\n', 'Leia\\n', 'Leia\\n', 'Luke\\n', 'Leia\\n', 'Darth\\n', 'Leia\\n', 'Leia\\n', 'Darth\\n', 'Leia\\n', 'Leia\\n', 'Darth\\n', 'Darth\\n', 'Leia\\n', 'Darth\\n', 'Leia\\n', 'Darth\\n', 'Luke\\n', 'Leia\\n', 'Luke\\n', 'Darth\\n', 'Darth\\n', 'Luke\\n', 'Darth\\n', 'Leia\\n', 'Darth\\n', 'Leia\\n', 'Luke\\n', 'Leia\\n', 'Leia\\n', 'Leia\\n', 'Leia\\n', 'Leia\\n', 'Darth\\n', 'Leia\\n', 'Leia\\n', 'Leia\\n', 'Leia\\n', 'Leia\\n', 'Leia\\n', 'Leia\\n', 'Luke\\n', 'Leia\\n', 'Leia\\n', 'Leia\\n', 'Leia\\n', 'Leia\\n', 'Leia\\n', 'Darth\\n', 'Luke\\n', 'Darth\\n', 'Leia\\n', 'Leia\\n', 'Darth']\n",
      "{'Leia\\n': 54, 'Darth\\n': 30, 'Luke\\n': 15}\n"
     ]
    }
   ],
   "source": [
    "# Solution 18: \n",
    "from collections import Counter\n",
    "f = open(r'nameslist.txt')\n",
    "words = []\n",
    "readline = f.readlines()\n",
    "words.extend(readline)\n",
    "print(words)\n",
    "\n",
    "#word1 = list(set(words))\n",
    "#print(word1)\n",
    "names = dict(Counter(words))\n",
    "print ({ key : value for key , value in names.items() if value > 1})\n"
   ]
  },
  {
   "cell_type": "markdown",
   "metadata": {},
   "source": [
    "### Question 19: \n",
    "\n",
    "Write a python program where two .txt files are given that have lists of numbers in them, find the numbers that are overlapping. One '**[primenumbers1_1000.txt](https://github.com/milaan9/92_Python_Assignments/blob/main/primenumbers1_1000.txt)**' file has a list of all prime numbers under 1000, and the other '**[happynumbers1_1000.txt](https://github.com/milaan9/92_Python_Assignments/blob/main/happynumbers1_1000.txt)**' file has a list of **[happy numbers](https://en.wikipedia.org/wiki/Happy_number)** up to 1000.\n",
    "\n",
    "Expected Output:\n",
    "```\n",
    "The list of overlapping numbers:\n",
    " [7, 13, 19, 23, 31, 79, 97, 103, 109, 139, 167, 193, 239, 263, 293, 313, 331, 367, 379, 383, 397, 409, 487, 563, 617, 653, 673, 683, 709, 739, 761, 863, 881, 907, 937]\n",
    "```\n",
    "\n",
    "For extra point:\n",
    "1. Generate solution with functions using list comprehensions"
   ]
  },
  {
   "cell_type": "code",
   "execution_count": 5,
   "metadata": {
    "collapsed": false
   },
   "outputs": [
    {
     "name": "stdout",
     "output_type": "stream",
     "text": [
      "['7\\n', '13\\n', '19\\n', '23\\n', '31\\n', '79\\n', '97\\n', '103\\n', '109\\n', '139\\n', '167\\n', '193\\n', '239\\n', '263\\n', '293\\n', '313\\n', '331\\n', '367\\n', '379\\n', '383\\n', '397\\n', '487\\n', '563\\n', '617\\n', '653\\n', '673\\n', '683\\n', '709\\n', '739\\n', '761\\n', '881\\n', '907\\n', '937\\n']\n"
     ]
    }
   ],
   "source": [
    "# Solution 19: \n",
    "file1 = open(r'happynumbers1_1000.txt')\n",
    "file2 = open(r'primenumbers1_1000.txt')\n",
    "\n",
    "a = file1.readlines()\n",
    "b = file2.readlines()\n",
    "c = [i for i in a if i in b]\n",
    "#print(a)\n",
    "#print(b)\n",
    "print(c)\n"
   ]
  },
  {
   "cell_type": "markdown",
   "metadata": {},
   "source": [
    "### Question 20: \n",
    "\n",
    "Create a function that takes a string as an argument and returns the Morse code equivalent.\n",
    "\n",
    "Expected Output:\n",
    "```\n",
    "encode_morse(\"HELP ME !\") ➞ \".... . .-.. .--.   -- .   -.-.--\"\n",
    "```\n",
    "\n",
    "This dictionary can be used for coding:\n",
    "```\n",
    "char_to_dots = {\n",
    "    'A': '.-',   'B': '-...', 'C': '-.-.', 'D': '-..',  'E': '.',    'F': '..-.',\n",
    "    'G': '--.',  'H': '....', 'I': '..',   'J': '.---', 'K': '-.-',  'L': '.-..',\n",
    "    'M': '--',   'N': '-.',   'O': '---',  'P': '.--.', 'Q': '--.-', 'R': '.-.',\n",
    "    'S': '...',  'T': '-',    'U': '..-',  'V': '...-', 'W': '.--',  'X': '-..-',\n",
    "    'Y': '-.--', 'Z': '--..',  \n",
    "        \n",
    "    '0': '-----', '1': '.----', '2': '..---', '3': '...--', '4': '....-', \n",
    "    '5': '.....', '6': '-....', '7': '--...', '8': '---..', '9': '----.',\n",
    "        \n",
    "    ' ': ' ',      '&': '.-...',  \"'\": '.----.', '@': '.--.-.', ')': '-.--.-', \n",
    "    '(': '-.--.',  ':': '---...', ',': '--..--', '=': '-...-',  '!': '-.-.--', \n",
    "    '.': '.-.-.-', '-': '-....-', '+': '.-.-.', '\"': '.-..-.',  '?': '..--..', \n",
    "    '/': '-..-.'\n",
    "}\n",
    "```"
   ]
  },
  {
   "cell_type": "code",
   "execution_count": 9,
   "metadata": {
    "collapsed": false
   },
   "outputs": [
    {
     "name": "stdout",
     "output_type": "stream",
     "text": [
      "......-...--. --. !\n",
      ".. ..-...-.......... -......... .-----.-.-.-!\n"
     ]
    }
   ],
   "source": [
    "# Solution 20: \n",
    "chars = \",.0123456789?abcdefghijklmnopqrstuvwxyz\"\n",
    "\n",
    "codes = \"\"\"--..-- .-.-.- ----- .---- ..--- ...-- ....- ..... -.... --... ---..\n",
    "\n",
    "----. ..--.. .- -... -.-. -... . ..-. --. .... .. .--- -.- .-.. --\n",
    "\n",
    "-. --- .--. --.- .-. ... - ..- ...- .-- -..- -.-- --..\"\"\"\n",
    "keys = dict(zip(chars, codes.split()))\n",
    "\n",
    "def zhuanhuan(char):\n",
    "    return keys.get(char.lower(), char)\n",
    "\n",
    "print(''.join(zhuanhuan(c) for c in 'HELP ME !'))\n",
    "print(''.join(zhuanhuan(c) for c in 'I FINISH THIS WORK!'))"
   ]
  },
  {
   "cell_type": "code",
   "execution_count": null,
   "metadata": {
    "collapsed": true
   },
   "outputs": [],
   "source": []
  }
 ],
 "metadata": {
  "hide_input": false,
  "kernelspec": {
   "display_name": "Python 3",
   "language": "python",
   "name": "python3"
  },
  "language_info": {
   "codemirror_mode": {
    "name": "ipython",
    "version": 3
   },
   "file_extension": ".py",
   "mimetype": "text/x-python",
   "name": "python",
   "nbconvert_exporter": "python",
   "pygments_lexer": "ipython3",
   "version": "3.5.1"
  },
  "toc": {
   "base_numbering": 1,
   "nav_menu": {},
   "number_sections": true,
   "sideBar": true,
   "skip_h1_title": false,
   "title_cell": "Table of Contents",
   "title_sidebar": "Contents",
   "toc_cell": false,
   "toc_position": {},
   "toc_section_display": true,
   "toc_window_display": false
  },
  "varInspector": {
   "cols": {
    "lenName": 16,
    "lenType": 16,
    "lenVar": 40
   },
   "kernels_config": {
    "python": {
     "delete_cmd_postfix": "",
     "delete_cmd_prefix": "del ",
     "library": "var_list.py",
     "varRefreshCmd": "print(var_dic_list())"
    },
    "r": {
     "delete_cmd_postfix": ") ",
     "delete_cmd_prefix": "rm(",
     "library": "var_list.r",
     "varRefreshCmd": "cat(var_dic_list()) "
    }
   },
   "types_to_exclude": [
    "module",
    "function",
    "builtin_function_or_method",
    "instance",
    "_Feature"
   ],
   "window_display": false
  }
 },
 "nbformat": 4,
 "nbformat_minor": 2
}
